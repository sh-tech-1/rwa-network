{
  "nbformat": 4,
  "nbformat_minor": 0,
  "metadata": {
    "colab": {
      "provenance": []
    },
    "kernelspec": {
      "name": "python3",
      "display_name": "Python 3"
    },
    "language_info": {
      "name": "python"
    }
  },
  "cells": [
    {
      "cell_type": "code",
      "source": [
        "import pandas as pd\n",
        "from sklearn.model_selection import train_test_split\n",
        "from sklearn.preprocessing import StandardScaler\n",
        "import xgboost as xgb\n",
        "import joblib"
      ],
      "metadata": {
        "id": "qW28dp5AjeJg"
      },
      "execution_count": 1,
      "outputs": []
    },
    {
      "cell_type": "code",
      "execution_count": 4,
      "metadata": {
        "colab": {
          "base_uri": "https://localhost:8080/"
        },
        "id": "SU_vdEv3jML6",
        "outputId": "7e9ad334-22a8-4af7-d056-a84b41700715"
      },
      "outputs": [
        {
          "output_type": "stream",
          "name": "stderr",
          "text": [
            "/usr/local/lib/python3.10/dist-packages/xgboost/core.py:158: UserWarning: [09:43:30] WARNING: /workspace/src/learner.cc:740: \n",
            "Parameters: { \"use_label_encoder\" } are not used.\n",
            "\n",
            "  warnings.warn(smsg, UserWarning)\n",
            "/usr/local/lib/python3.10/dist-packages/xgboost/core.py:158: UserWarning: [09:43:30] WARNING: /workspace/src/c_api/c_api.cc:1374: Saving model in the UBJSON format as default.  You can use file extension: `json`, `ubj` or `deprecated` to choose between formats.\n",
            "  warnings.warn(smsg, UserWarning)\n"
          ]
        }
      ],
      "source": [
        "import pandas as pd\n",
        "from sklearn.model_selection import train_test_split\n",
        "from sklearn.preprocessing import StandardScaler\n",
        "import xgboost as xgb\n",
        "import joblib\n",
        "\n",
        "# Step 1: Load the JSON data into a pandas DataFrame\n",
        "data = pd.read_json('/content/nigeria_fintech_with_scaled_credit_scores.json')\n",
        "\n",
        "# Step 2: Preprocessing\n",
        "# Here we assume \"Credit Score\" is the target variable\n",
        "X = data.drop(\"Credit Score\", axis=1)  # Features (exclude Credit Score)\n",
        "y = data[\"Credit Score\"]  # Target (Credit Score)\n",
        "\n",
        "# Optionally scale the features (important for some models)\n",
        "scaler = StandardScaler()\n",
        "X_scaled = scaler.fit_transform(X)\n",
        "\n",
        "# Step 3: Split the data into training and test sets\n",
        "X_train, X_test, y_train, y_test = train_test_split(X_scaled, y, test_size=0.2, random_state=42)\n",
        "\n",
        "# Step 4: Train the XGBoost model\n",
        "xgb_model = xgb.XGBRegressor(objective='reg:squarederror', use_label_encoder=False)\n",
        "xgb_model.fit(X_train, y_train)\n",
        "\n",
        "# Step 5: Save the trained model to a file\n",
        "xgb_model.save_model('/content/xgboost_credit_score_model.dat')\n"
      ]
    },
    {
      "cell_type": "code",
      "source": [
        "import pandas as pd\n",
        "\n",
        "# Step 1: Load the JSON data into a pandas DataFrame\n",
        "data = pd.read_json('/content/nigeria_fintech_with_scaled_credit_scores.json')\n",
        "\n",
        "# Step 2: Extract features (excluding the target column \"Credit Score\")\n",
        "# Assuming \"Credit Score\" is the target variable that you want to exclude\n",
        "features = data.drop(columns=['Credit Score'])\n",
        "\n",
        "# Step 3: Save the features as a TSV file\n",
        "features.to_csv('/content/nigeria_fintech_features.tsv', sep='\\t', index=False, header=False)\n",
        "\n",
        "# Optional: Display the first few rows to verify\n",
        "print(\"TSV file content preview:\")\n",
        "print(features.head())"
      ],
      "metadata": {
        "colab": {
          "base_uri": "https://localhost:8080/"
        },
        "id": "c5iud9gFqgGp",
        "outputId": "3c292d84-80ce-444d-e33b-76c58f386330"
      },
      "execution_count": 5,
      "outputs": [
        {
          "output_type": "stream",
          "name": "stdout",
          "text": [
            "TSV file content preview:\n",
            "   Account Balance  Wallet Balance (ETH)  Total Mobile Money Transactions  \\\n",
            "0          2694.11                  0.43                           394.31   \n",
            "1          1760.98                  1.02                           551.74   \n",
            "2          4881.45                  1.69                           984.22   \n",
            "3          2291.93                  0.52                           294.28   \n",
            "4          3063.27                  1.60                           405.42   \n",
            "\n",
            "   Social Media Activity Data  Mobile Phone Usage  Number of Late Payments  \n",
            "0                        1497               45.44                        9  \n",
            "1                        1802               39.45                        7  \n",
            "2                        3681               69.53                        5  \n",
            "3                        4960               47.82                        1  \n",
            "4                        4193               23.67                        4  \n"
          ]
        }
      ]
    },
    {
      "cell_type": "code",
      "source": [
        "!pip install zkml"
      ],
      "metadata": {
        "colab": {
          "base_uri": "https://localhost:8080/"
        },
        "id": "FphLzwp3rJ5C",
        "outputId": "571d4f0e-e30a-47f3-95f1-39fc4010fa29"
      },
      "execution_count": 6,
      "outputs": [
        {
          "output_type": "stream",
          "name": "stdout",
          "text": [
            "Collecting zkml\n",
            "  Downloading zkml-0.0.2b1-py3-none-any.whl.metadata (4.5 kB)\n",
            "Requirement already satisfied: numpy<2.0.0,>=1.24.3 in /usr/local/lib/python3.10/dist-packages (from zkml) (1.26.4)\n",
            "Requirement already satisfied: pandas<3.0.0,>=2.1.0 in /usr/local/lib/python3.10/dist-packages (from zkml) (2.1.4)\n",
            "Requirement already satisfied: psutil<6.0.0,>=5.8.0 in /usr/local/lib/python3.10/dist-packages (from zkml) (5.9.5)\n",
            "Requirement already satisfied: scikit-learn<2.0.0,>=1.3.0 in /usr/local/lib/python3.10/dist-packages (from zkml) (1.3.2)\n",
            "Requirement already satisfied: python-dateutil>=2.8.2 in /usr/local/lib/python3.10/dist-packages (from pandas<3.0.0,>=2.1.0->zkml) (2.8.2)\n",
            "Requirement already satisfied: pytz>=2020.1 in /usr/local/lib/python3.10/dist-packages (from pandas<3.0.0,>=2.1.0->zkml) (2024.1)\n",
            "Requirement already satisfied: tzdata>=2022.1 in /usr/local/lib/python3.10/dist-packages (from pandas<3.0.0,>=2.1.0->zkml) (2024.1)\n",
            "Requirement already satisfied: scipy>=1.5.0 in /usr/local/lib/python3.10/dist-packages (from scikit-learn<2.0.0,>=1.3.0->zkml) (1.13.1)\n",
            "Requirement already satisfied: joblib>=1.1.1 in /usr/local/lib/python3.10/dist-packages (from scikit-learn<2.0.0,>=1.3.0->zkml) (1.4.2)\n",
            "Requirement already satisfied: threadpoolctl>=2.0.0 in /usr/local/lib/python3.10/dist-packages (from scikit-learn<2.0.0,>=1.3.0->zkml) (3.5.0)\n",
            "Requirement already satisfied: six>=1.5 in /usr/local/lib/python3.10/dist-packages (from python-dateutil>=2.8.2->pandas<3.0.0,>=2.1.0->zkml) (1.16.0)\n",
            "Downloading zkml-0.0.2b1-py3-none-any.whl (25 kB)\n",
            "Installing collected packages: zkml\n",
            "Successfully installed zkml-0.0.2b1\n"
          ]
        }
      ]
    },
    {
      "cell_type": "code",
      "source": [
        "import math\n",
        "import os\n",
        "import unittest\n",
        "\n",
        "import joblib\n",
        "import pandas as pd\n",
        "\n",
        "from zkml.XGBoost.xgboost_to_noir import xgboost_noir_code\n",
        "from zkml.quantization.quantize import calc_scale, calc_zero_point\n",
        "\n",
        "class TestXGBoost(unittest.TestCase):\n",
        "    def test_xgboost_to_noir(self):\n",
        "        # Quantize part\n",
        "        q_type = \"uint8\"\n",
        "\n",
        "        # Step 1: Load the preprocessing data\n",
        "        # Assuming you've already uploaded 'nigeria_fintech_features.tsv' to Google Colab\n",
        "        path = '/content/nigeria_fintech_features.tsv'\n",
        "        titanic = pd.read_table(path, sep=\"\\t\", header=None)\n",
        "        titanic = titanic.iloc[:, :-1]\n",
        "\n",
        "        x = [element for sublist in titanic.values.tolist() for element in sublist]\n",
        "\n",
        "        # Calculate scale and zero point for quantization\n",
        "        scale_molecule, scale_denominator = calc_scale(x, q_type)\n",
        "        q_scale = math.ceil(scale_molecule / scale_denominator)\n",
        "        q_zero_point = calc_zero_point(x, q_scale, q_type)\n",
        "        print(\"Quantization info: \", q_scale, q_zero_point)\n",
        "\n",
        "        # Model to noir code\n",
        "        # Upload your model to Google Colab and use the correct path\n",
        "        # Here, we assume the model is a regression model saved as 'xgboost_model.dat'\n",
        "        model_path = '/content/xgboost_model.dat'  # Adjust this path if needed\n",
        "        is_classification = \"classification\" in model_path\n",
        "\n",
        "        # Load the xgboost model\n",
        "        clf = joblib.load(model_path)\n",
        "        noir_code = xgboost_noir_code(clf, q_scale, q_zero_point, q_type, is_classification)\n",
        "\n",
        "        # Save the noir code to a file\n",
        "        output_path = '/content/nigeria_fintech.noir'\n",
        "        with open(output_path, \"w\") as f:\n",
        "            for line in noir_code:\n",
        "                f.write(line)\n",
        "\n",
        "        print(f\"Noir code has been saved to {output_path}\")\n",
        "\n",
        "# Run the test\n",
        "if __name__ == '__main__':\n",
        "    unittest.main(argv=[''], exit=False)\n"
      ],
      "metadata": {
        "colab": {
          "base_uri": "https://localhost:8080/",
          "height": 388
        },
        "id": "cFjNowjirHFF",
        "outputId": "499f1870-29ba-4ee1-b972-99916d80c1c8"
      },
      "execution_count": 7,
      "outputs": [
        {
          "output_type": "error",
          "ename": "ModuleNotFoundError",
          "evalue": "No module named 'zkml.XGBoost'",
          "traceback": [
            "\u001b[0;31m---------------------------------------------------------------------------\u001b[0m",
            "\u001b[0;31mModuleNotFoundError\u001b[0m                       Traceback (most recent call last)",
            "\u001b[0;32m<ipython-input-7-3df4bfbbe097>\u001b[0m in \u001b[0;36m<cell line: 8>\u001b[0;34m()\u001b[0m\n\u001b[1;32m      6\u001b[0m \u001b[0;32mimport\u001b[0m \u001b[0mpandas\u001b[0m \u001b[0;32mas\u001b[0m \u001b[0mpd\u001b[0m\u001b[0;34m\u001b[0m\u001b[0;34m\u001b[0m\u001b[0m\n\u001b[1;32m      7\u001b[0m \u001b[0;34m\u001b[0m\u001b[0m\n\u001b[0;32m----> 8\u001b[0;31m \u001b[0;32mfrom\u001b[0m \u001b[0mzkml\u001b[0m\u001b[0;34m.\u001b[0m\u001b[0mXGBoost\u001b[0m\u001b[0;34m.\u001b[0m\u001b[0mxgboost_to_noir\u001b[0m \u001b[0;32mimport\u001b[0m \u001b[0mxgboost_noir_code\u001b[0m\u001b[0;34m\u001b[0m\u001b[0;34m\u001b[0m\u001b[0m\n\u001b[0m\u001b[1;32m      9\u001b[0m \u001b[0;32mfrom\u001b[0m \u001b[0mzkml\u001b[0m\u001b[0;34m.\u001b[0m\u001b[0mquantization\u001b[0m\u001b[0;34m.\u001b[0m\u001b[0mquantize\u001b[0m \u001b[0;32mimport\u001b[0m \u001b[0mcalc_scale\u001b[0m\u001b[0;34m,\u001b[0m \u001b[0mcalc_zero_point\u001b[0m\u001b[0;34m\u001b[0m\u001b[0;34m\u001b[0m\u001b[0m\n\u001b[1;32m     10\u001b[0m \u001b[0;34m\u001b[0m\u001b[0m\n",
            "\u001b[0;31mModuleNotFoundError\u001b[0m: No module named 'zkml.XGBoost'",
            "",
            "\u001b[0;31m---------------------------------------------------------------------------\u001b[0;32m\nNOTE: If your import is failing due to a missing package, you can\nmanually install dependencies using either !pip or !apt.\n\nTo view examples of installing some common dependencies, click the\n\"Open Examples\" button below.\n\u001b[0;31m---------------------------------------------------------------------------\u001b[0m\n"
          ],
          "errorDetails": {
            "actions": [
              {
                "action": "open_url",
                "actionText": "Open Examples",
                "url": "/notebooks/snippets/importing_libraries.ipynb"
              }
            ]
          }
        }
      ]
    }
  ]
}